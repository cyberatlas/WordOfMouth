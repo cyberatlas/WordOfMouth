{
 "cells": [
  {
   "cell_type": "code",
   "execution_count": 1,
   "metadata": {},
   "outputs": [],
   "source": [
    "import epitran"
   ]
  },
  {
   "cell_type": "code",
   "execution_count": 7,
   "metadata": {},
   "outputs": [],
   "source": [
    "epi = epitran.Epitran('eng-Latn')"
   ]
  },
  {
   "cell_type": "code",
   "execution_count": 19,
   "metadata": {},
   "outputs": [],
   "source": [
    "phenome = epi.transliterate(u'This Shit is sick\\n I like it')"
   ]
  },
  {
   "cell_type": "code",
   "execution_count": 20,
   "metadata": {},
   "outputs": [
    {
     "data": {
      "text/plain": [
       "['ð',\n",
       " 'ɪ',\n",
       " 's',\n",
       " ' ',\n",
       " 'ʃ',\n",
       " 'ɪ',\n",
       " 't',\n",
       " ' ',\n",
       " 'ɪ',\n",
       " 'z',\n",
       " ' ',\n",
       " 's',\n",
       " 'ɪ',\n",
       " 'k',\n",
       " '\\n',\n",
       " ' ',\n",
       " 'a',\n",
       " 'j',\n",
       " ' ',\n",
       " 'l',\n",
       " 'a',\n",
       " 'j',\n",
       " 'k',\n",
       " ' ',\n",
       " 'ɪ',\n",
       " 't']"
      ]
     },
     "execution_count": 20,
     "metadata": {},
     "output_type": "execute_result"
    }
   ],
   "source": [
    "list(phenome)"
   ]
  },
  {
   "cell_type": "code",
   "execution_count": 3,
   "metadata": {},
   "outputs": [],
   "source": [
    "import librosa as lr"
   ]
  },
  {
   "cell_type": "code",
   "execution_count": 4,
   "metadata": {},
   "outputs": [],
   "source": [
    "audio, sfreq = lr.load('obama.wav')"
   ]
  }
 ],
 "metadata": {
  "kernelspec": {
   "display_name": "Python 3",
   "language": "python",
   "name": "python3"
  },
  "language_info": {
   "codemirror_mode": {
    "name": "ipython",
    "version": 3
   },
   "file_extension": ".py",
   "mimetype": "text/x-python",
   "name": "python",
   "nbconvert_exporter": "python",
   "pygments_lexer": "ipython3",
   "version": "3.7.3"
  }
 },
 "nbformat": 4,
 "nbformat_minor": 2
}
